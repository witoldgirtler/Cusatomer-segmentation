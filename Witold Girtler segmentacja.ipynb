{
 "cells": [
  {
   "cell_type": "code",
   "execution_count": 2,
   "id": "fuzzy-invitation",
   "metadata": {},
   "outputs": [],
   "source": [
    "import pandas as pd\n",
    "import matplotlib.pyplot as plt\n",
    "import numpy as np\n",
    "import seaborn as sns\n",
    "\n",
    "from sklearn.preprocessing import StandardScaler\n",
    "from sklearn.cluster import KMeans"
   ]
  },
  {
   "cell_type": "code",
   "execution_count": 3,
   "id": "intermediate-resource",
   "metadata": {},
   "outputs": [],
   "source": [
    "df = pd.read_csv('Customers.csv', sep = ';', decimal = ',')"
   ]
  },
  {
   "cell_type": "code",
   "execution_count": 4,
   "id": "historical-aspect",
   "metadata": {},
   "outputs": [
    {
     "data": {
      "text/html": [
       "<div>\n",
       "<style scoped>\n",
       "    .dataframe tbody tr th:only-of-type {\n",
       "        vertical-align: middle;\n",
       "    }\n",
       "\n",
       "    .dataframe tbody tr th {\n",
       "        vertical-align: top;\n",
       "    }\n",
       "\n",
       "    .dataframe thead th {\n",
       "        text-align: right;\n",
       "    }\n",
       "</style>\n",
       "<table border=\"1\" class=\"dataframe\">\n",
       "  <thead>\n",
       "    <tr style=\"text-align: right;\">\n",
       "      <th></th>\n",
       "      <th>CustomerId</th>\n",
       "      <th>Profit</th>\n",
       "      <th>Recency</th>\n",
       "      <th>Frequency</th>\n",
       "      <th>Monetary</th>\n",
       "      <th>Variance</th>\n",
       "    </tr>\n",
       "  </thead>\n",
       "  <tbody>\n",
       "    <tr>\n",
       "      <th>0</th>\n",
       "      <td>1</td>\n",
       "      <td>187</td>\n",
       "      <td>63</td>\n",
       "      <td>1</td>\n",
       "      <td>2349.06</td>\n",
       "      <td>2</td>\n",
       "    </tr>\n",
       "    <tr>\n",
       "      <th>1</th>\n",
       "      <td>2</td>\n",
       "      <td>96</td>\n",
       "      <td>10</td>\n",
       "      <td>6</td>\n",
       "      <td>922.62</td>\n",
       "      <td>4</td>\n",
       "    </tr>\n",
       "    <tr>\n",
       "      <th>2</th>\n",
       "      <td>3</td>\n",
       "      <td>47</td>\n",
       "      <td>35</td>\n",
       "      <td>4</td>\n",
       "      <td>881.22</td>\n",
       "      <td>3</td>\n",
       "    </tr>\n",
       "    <tr>\n",
       "      <th>3</th>\n",
       "      <td>4</td>\n",
       "      <td>294</td>\n",
       "      <td>5</td>\n",
       "      <td>1</td>\n",
       "      <td>3815.16</td>\n",
       "      <td>2</td>\n",
       "    </tr>\n",
       "    <tr>\n",
       "      <th>4</th>\n",
       "      <td>5</td>\n",
       "      <td>732</td>\n",
       "      <td>4</td>\n",
       "      <td>31</td>\n",
       "      <td>41868.11</td>\n",
       "      <td>29</td>\n",
       "    </tr>\n",
       "    <tr>\n",
       "      <th>5</th>\n",
       "      <td>6</td>\n",
       "      <td>37</td>\n",
       "      <td>16</td>\n",
       "      <td>3</td>\n",
       "      <td>2053.40</td>\n",
       "      <td>8</td>\n",
       "    </tr>\n",
       "    <tr>\n",
       "      <th>6</th>\n",
       "      <td>7</td>\n",
       "      <td>264</td>\n",
       "      <td>11</td>\n",
       "      <td>12</td>\n",
       "      <td>4861.49</td>\n",
       "      <td>12</td>\n",
       "    </tr>\n",
       "    <tr>\n",
       "      <th>7</th>\n",
       "      <td>8</td>\n",
       "      <td>188</td>\n",
       "      <td>4</td>\n",
       "      <td>8</td>\n",
       "      <td>4010.69</td>\n",
       "      <td>9</td>\n",
       "    </tr>\n",
       "    <tr>\n",
       "      <th>8</th>\n",
       "      <td>9</td>\n",
       "      <td>316</td>\n",
       "      <td>4</td>\n",
       "      <td>21</td>\n",
       "      <td>12636.80</td>\n",
       "      <td>20</td>\n",
       "    </tr>\n",
       "    <tr>\n",
       "      <th>9</th>\n",
       "      <td>10</td>\n",
       "      <td>528</td>\n",
       "      <td>5</td>\n",
       "      <td>18</td>\n",
       "      <td>17741.24</td>\n",
       "      <td>26</td>\n",
       "    </tr>\n",
       "  </tbody>\n",
       "</table>\n",
       "</div>"
      ],
      "text/plain": [
       "   CustomerId  Profit  Recency  Frequency  Monetary  Variance\n",
       "0           1     187       63          1   2349.06         2\n",
       "1           2      96       10          6    922.62         4\n",
       "2           3      47       35          4    881.22         3\n",
       "3           4     294        5          1   3815.16         2\n",
       "4           5     732        4         31  41868.11        29\n",
       "5           6      37       16          3   2053.40         8\n",
       "6           7     264       11         12   4861.49        12\n",
       "7           8     188        4          8   4010.69         9\n",
       "8           9     316        4         21  12636.80        20\n",
       "9          10     528        5         18  17741.24        26"
      ]
     },
     "execution_count": 4,
     "metadata": {},
     "output_type": "execute_result"
    }
   ],
   "source": [
    "df.head(10)"
   ]
  },
  {
   "cell_type": "code",
   "execution_count": 5,
   "id": "everyday-papua",
   "metadata": {},
   "outputs": [
    {
     "data": {
      "text/plain": [
       "(1511, 6)"
      ]
     },
     "execution_count": 5,
     "metadata": {},
     "output_type": "execute_result"
    }
   ],
   "source": [
    "df.shape"
   ]
  },
  {
   "cell_type": "code",
   "execution_count": 6,
   "id": "forty-madness",
   "metadata": {},
   "outputs": [
    {
     "data": {
      "text/plain": [
       "CustomerId    0\n",
       "Profit        0\n",
       "Recency       0\n",
       "Frequency     0\n",
       "Monetary      0\n",
       "Variance      0\n",
       "dtype: int64"
      ]
     },
     "execution_count": 6,
     "metadata": {},
     "output_type": "execute_result"
    }
   ],
   "source": [
    "df.isna().sum()"
   ]
  },
  {
   "cell_type": "code",
   "execution_count": 7,
   "id": "innovative-devices",
   "metadata": {},
   "outputs": [],
   "source": [
    "df.drop(['CustomerId'], axis = 1, inplace = True)"
   ]
  },
  {
   "cell_type": "code",
   "execution_count": 8,
   "id": "level-florida",
   "metadata": {
    "scrolled": true
   },
   "outputs": [
    {
     "data": {
      "image/png": "[encoded data removed]",
      "text/plain": [
       "<Figure size 720x504 with 6 Axes>"
      ]
     },
     "metadata": {
      "needs_background": "light"
     },
     "output_type": "display_data"
    }
   ],
   "source": [
    "df.hist(figsize = (10,7), bins = 20)\n",
    "plt.show()"
   ]
  },
  {
   "cell_type": "code",
   "execution_count": 9,
   "id": "extraordinary-officer",
   "metadata": {},
   "outputs": [],
   "source": [
    "X = df[['Profit', 'Recency', 'Frequency', 'Monetary', 'Variance']].to_numpy()"
   ]
  },
  {
   "cell_type": "markdown",
   "id": "taken-professional",
   "metadata": {},
   "source": [
    "Z uwagi na to, że różne kolumny posiadają różne rzędy wartości wymagane jest skalowanie danych. Użyłem funkcji StandardScaler ponieważ w tym przypadku nie przeszkadzają mi wartości odstające takie jak np duża wartość 'Profit' gdyż tacy klienci mogą stworzyć oddzielną kategorię, a gdyby wszystkie wartości były podobne klasyfikacja nie miałaby dużego sensu."
   ]
  },
  {
   "cell_type": "code",
   "execution_count": 10,
   "id": "subsequent-toronto",
   "metadata": {},
   "outputs": [],
   "source": [
    "X_scaled = StandardScaler().fit_transform(X)"
   ]
  },
  {
   "cell_type": "markdown",
   "id": "spatial-silicon",
   "metadata": {},
   "source": [
    "Sprawdzenie, ile klas powinienem stworzyć:"
   ]
  },
  {
   "cell_type": "code",
   "execution_count": 11,
   "id": "stunning-merit",
   "metadata": {},
   "outputs": [],
   "source": [
    "inertia = []\n",
    "K = range(1,10)\n",
    "for k in K:\n",
    "    kmeanModel = KMeans(n_clusters=k).fit(X_scaled)\n",
    "    kmeanModel.fit(X_scaled)\n",
    "    inertia.append(kmeanModel.inertia_)"
   ]
  },
  {
   "cell_type": "code",
   "execution_count": 12,
   "id": "exempt-integer",
   "metadata": {},
   "outputs": [
    {
     "data": {
      "image/png": "[encoded data removed]",
      "text/plain": [
       "<Figure size 432x288 with 1 Axes>"
      ]
     },
     "metadata": {
      "needs_background": "light"
     },
     "output_type": "display_data"
    }
   ],
   "source": [
    "plt.plot(K, inertia, 'bx-')\n",
    "plt.xlabel('k')\n",
    "plt.ylabel('bezwładność')\n",
    "plt.show()"
   ]
  },
  {
   "cell_type": "markdown",
   "id": "yellow-renaissance",
   "metadata": {},
   "source": [
    "Przyporządkowanie klientów do danych kateogrii:"
   ]
  },
  {
   "cell_type": "code",
   "execution_count": 44,
   "id": "understanding-potato",
   "metadata": {},
   "outputs": [],
   "source": [
    "kmeans = KMeans(n_clusters=4).fit(X_scaled)"
   ]
  },
  {
   "cell_type": "code",
   "execution_count": 106,
   "id": "cross-gospel",
   "metadata": {},
   "outputs": [],
   "source": [
    "labels = pd.DataFrame(kmeans.labels_)\n",
    "\n",
    "df_labeled = pd.concat((df,labels),axis=1)"
   ]
  },
  {
   "cell_type": "code",
   "execution_count": 107,
   "id": "solid-squad",
   "metadata": {},
   "outputs": [],
   "source": [
    "df_labeled.rename({0:'labels'}, axis=1, inplace = True)"
   ]
  },
  {
   "cell_type": "code",
   "execution_count": 108,
   "id": "found-handle",
   "metadata": {},
   "outputs": [
    {
     "name": "stdout",
     "output_type": "stream",
     "text": [
      "    Profit  Recency  Frequency   Monetary  Variance  labels\n",
      "4      732        4         31   41868.11        29       0\n",
      "8      316        4         21   12636.80        20       0\n",
      "9      528        5         18   17741.24        26       0\n",
      "25     957        3         22   35229.52        34       0\n",
      "26    3858        3         52  114028.95        41       0\n",
      "    Profit  Recency  Frequency  Monetary  Variance  labels\n",
      "0      187       63          1   2349.06         2       1\n",
      "2       47       35          4    881.22         3       1\n",
      "18      36       40          7    774.44         5       1\n",
      "19      26       59          3    251.98         2       1\n",
      "20     156       32          4  11455.86        10       1\n",
      "     Profit  Recency  Frequency     Monetary  Variance  labels\n",
      "11    58457       11         13  25965518.20       110       2\n",
      "50    67669        1         77  31966480.14       134       2\n",
      "144   41189        2         65   6319742.34       103       2\n",
      "399   45822        4         15  32539936.23       130       2\n",
      "592   42424        2         69   4913887.25       105       2\n",
      "   Profit  Recency  Frequency  Monetary  Variance  labels\n",
      "1      96       10          6    922.62         4       3\n",
      "3     294        5          1   3815.16         2       3\n",
      "5      37       16          3   2053.40         8       3\n",
      "6     264       11         12   4861.49        12       3\n",
      "7     188        4          8   4010.69         9       3\n",
      "Empty DataFrame\n",
      "Columns: [Profit, Recency, Frequency, Monetary, Variance, labels]\n",
      "Index: []\n"
     ]
    }
   ],
   "source": [
    "for i in range(5):\n",
    "    print(df_labeled[df_labeled['labels'] == i].head())"
   ]
  },
  {
   "cell_type": "markdown",
   "id": "loose-cholesterol",
   "metadata": {},
   "source": [
    "Można teraz sprawdzić rozkład klientów dla różnych argumentów, w tym przypadku 'Profit' od 'Variance':"
   ]
  },
  {
   "cell_type": "code",
   "execution_count": 109,
   "id": "absolute-kazakhstan",
   "metadata": {},
   "outputs": [
    {
     "data": {
      "text/plain": [
       "<seaborn.axisgrid.FacetGrid at 0x1fd99861dc8>"
      ]
     },
     "execution_count": 109,
     "metadata": {},
     "output_type": "execute_result"
    },
    {
     "data": {
      "image/png": "[encoded data removed]",
      "text/plain": [
       "<Figure size 402.375x360 with 1 Axes>"
      ]
     },
     "metadata": {
      "needs_background": "light"
     },
     "output_type": "display_data"
    }
   ],
   "source": [
    "sns.lmplot(x = 'Variance', y='Profit',  data=df_labeled, hue='labels',fit_reg=False)"
   ]
  },
  {
   "cell_type": "markdown",
   "id": "monetary-classic",
   "metadata": {},
   "source": [
    "Oprócz tego wyświetlam średnie wartości kolumn dla każdej kategorii aby lepiej zorientowac się w tym, na jakich zasadach zotsały one przypisane."
   ]
  },
  {
   "cell_type": "code",
   "execution_count": 110,
   "id": "lined-natural",
   "metadata": {},
   "outputs": [
    {
     "name": "stdout",
     "output_type": "stream",
     "text": [
      "Kategoria  0 \n",
      " Profit         1919.126404\n",
      "Recency           5.109551\n",
      "Frequency        21.598315\n",
      "Monetary     125121.052388\n",
      "Variance         36.834270\n",
      "labels            0.000000\n",
      "dtype: float64 \n",
      "\n",
      "Kategoria  1 \n",
      " Profit         369.342466\n",
      "Recency         50.681507\n",
      "Frequency        2.667808\n",
      "Monetary     28701.131575\n",
      "Variance         5.061644\n",
      "labels           1.000000\n",
      "dtype: float64 \n",
      "\n",
      "Kategoria  2 \n",
      " Profit       5.302917e+04\n",
      "Recency      3.416667e+00\n",
      "Frequency    5.533333e+01\n",
      "Monetary     1.687035e+07\n",
      "Variance     1.149167e+02\n",
      "labels       2.000000e+00\n",
      "dtype: float64 \n",
      "\n",
      "Kategoria  3 \n",
      " Profit         280.030552\n",
      "Recency          8.561692\n",
      "Frequency        8.285546\n",
      "Monetary     11318.355617\n",
      "Variance        10.837838\n",
      "labels           3.000000\n",
      "dtype: float64 \n",
      "\n"
     ]
    }
   ],
   "source": [
    "for i in range(4):\n",
    "    print('Kategoria ', i, '\\n', df_labeled[df_labeled['labels'] == i].mean(axis=0),'\\n')"
   ]
  },
  {
   "cell_type": "markdown",
   "id": "revolutionary-termination",
   "metadata": {},
   "source": [
    "Wprowadzenie opisu kategorii do tabeli:"
   ]
  },
  {
   "cell_type": "code",
   "execution_count": 111,
   "id": "specified-links",
   "metadata": {},
   "outputs": [],
   "source": [
    "df_labeled.insert(6, 'Type','none')"
   ]
  },
  {
   "cell_type": "code",
   "execution_count": 112,
   "id": "frank-conservative",
   "metadata": {},
   "outputs": [],
   "source": [
    "i = 0\n",
    "for n in df_labeled['labels']:\n",
    "    \n",
    "    if n == 0:\n",
    "        df_labeled.iloc[i, 6] = 'Regular customer'\n",
    "    elif n ==1:\n",
    "        df_labeled.iloc[i, 6] = 'Inactive customer' \n",
    "    elif n == 2:\n",
    "        df_labeled.iloc[i, 6] = 'Profitable customer'\n",
    "    elif n ==3:\n",
    "        df_labeled.iloc[i, 6] = 'New customer'\n",
    "    i+=1"
   ]
  },
  {
   "cell_type": "code",
   "execution_count": 113,
   "id": "difficult-census",
   "metadata": {},
   "outputs": [],
   "source": [
    "df_labeled.insert(0, 'CustomerId',1)"
   ]
  },
  {
   "cell_type": "code",
   "execution_count": 126,
   "id": "northern-limitation",
   "metadata": {},
   "outputs": [],
   "source": [
    "i=1\n",
    "for n in range(len(df_labeled['CustomerId'])):\n",
    "    df_labeled.iloc[n, 0] = i\n",
    "    i+=1    "
   ]
  },
  {
   "cell_type": "code",
   "execution_count": 129,
   "id": "professional-italy",
   "metadata": {},
   "outputs": [
    {
     "data": {
      "text/html": [
       "<div>\n",
       "<style scoped>\n",
       "    .dataframe tbody tr th:only-of-type {\n",
       "        vertical-align: middle;\n",
       "    }\n",
       "\n",
       "    .dataframe tbody tr th {\n",
       "        vertical-align: top;\n",
       "    }\n",
       "\n",
       "    .dataframe thead th {\n",
       "        text-align: right;\n",
       "    }\n",
       "</style>\n",
       "<table border=\"1\" class=\"dataframe\">\n",
       "  <thead>\n",
       "    <tr style=\"text-align: right;\">\n",
       "      <th></th>\n",
       "      <th>CustomerId</th>\n",
       "      <th>Profit</th>\n",
       "      <th>Recency</th>\n",
       "      <th>Frequency</th>\n",
       "      <th>Monetary</th>\n",
       "      <th>Variance</th>\n",
       "      <th>labels</th>\n",
       "      <th>Type</th>\n",
       "    </tr>\n",
       "  </thead>\n",
       "  <tbody>\n",
       "    <tr>\n",
       "      <th>0</th>\n",
       "      <td>1</td>\n",
       "      <td>187</td>\n",
       "      <td>63</td>\n",
       "      <td>1</td>\n",
       "      <td>2349.06</td>\n",
       "      <td>2</td>\n",
       "      <td>1</td>\n",
       "      <td>Inactive customer</td>\n",
       "    </tr>\n",
       "    <tr>\n",
       "      <th>1</th>\n",
       "      <td>2</td>\n",
       "      <td>96</td>\n",
       "      <td>10</td>\n",
       "      <td>6</td>\n",
       "      <td>922.62</td>\n",
       "      <td>4</td>\n",
       "      <td>3</td>\n",
       "      <td>New customer</td>\n",
       "    </tr>\n",
       "    <tr>\n",
       "      <th>2</th>\n",
       "      <td>3</td>\n",
       "      <td>47</td>\n",
       "      <td>35</td>\n",
       "      <td>4</td>\n",
       "      <td>881.22</td>\n",
       "      <td>3</td>\n",
       "      <td>1</td>\n",
       "      <td>Inactive customer</td>\n",
       "    </tr>\n",
       "    <tr>\n",
       "      <th>3</th>\n",
       "      <td>4</td>\n",
       "      <td>294</td>\n",
       "      <td>5</td>\n",
       "      <td>1</td>\n",
       "      <td>3815.16</td>\n",
       "      <td>2</td>\n",
       "      <td>3</td>\n",
       "      <td>New customer</td>\n",
       "    </tr>\n",
       "    <tr>\n",
       "      <th>4</th>\n",
       "      <td>5</td>\n",
       "      <td>732</td>\n",
       "      <td>4</td>\n",
       "      <td>31</td>\n",
       "      <td>41868.11</td>\n",
       "      <td>29</td>\n",
       "      <td>0</td>\n",
       "      <td>Regular customer</td>\n",
       "    </tr>\n",
       "  </tbody>\n",
       "</table>\n",
       "</div>"
      ],
      "text/plain": [
       "   CustomerId  Profit  Recency  Frequency  Monetary  Variance  labels  \\\n",
       "0           1     187       63          1   2349.06         2       1   \n",
       "1           2      96       10          6    922.62         4       3   \n",
       "2           3      47       35          4    881.22         3       1   \n",
       "3           4     294        5          1   3815.16         2       3   \n",
       "4           5     732        4         31  41868.11        29       0   \n",
       "\n",
       "                Type  \n",
       "0  Inactive customer  \n",
       "1       New customer  \n",
       "2  Inactive customer  \n",
       "3       New customer  \n",
       "4   Regular customer  "
      ]
     },
     "execution_count": 129,
     "metadata": {},
     "output_type": "execute_result"
    }
   ],
   "source": [
    "df_labeled.head()"
   ]
  },
  {
   "cell_type": "code",
   "execution_count": 130,
   "id": "acoustic-singer",
   "metadata": {},
   "outputs": [],
   "source": [
    "df_labeled.to_csv('Customers.csv', index = False)"
   ]
  }
 ],
 "metadata": {
  "kernelspec": {
   "display_name": "Python 3",
   "language": "python",
   "name": "python3"
  },
  "language_info": {
   "codemirror_mode": {
    "name": "ipython",
    "version": 3
   },
   "file_extension": ".py",
   "mimetype": "text/x-python",
   "name": "python",
   "nbconvert_exporter": "python",
   "pygments_lexer": "ipython3",
   "version": "3.7.9"
  }
 },
 "nbformat": 4,
 "nbformat_minor": 5
}
